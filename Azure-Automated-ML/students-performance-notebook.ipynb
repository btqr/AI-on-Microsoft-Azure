{
  "cells": [
    {
      "cell_type": "markdown",
      "source": [
        "### Use case\r\n",
        "\r\n",
        "Celem ćwiczenia jest przewidzenie jaki rezultat otrzymają uczniowie z testu matematycznego znając inne dane na ich temat takie jak:\r\n",
        "* płeć\r\n",
        "* rase/pochodzenię\r\n",
        "* wykształcenie rodziców\r\n",
        "* wyniki z innych testów\r\n",
        "* poziom majętności rodziców na podstawie przysługujących zniżek na lunch\r\n",
        "* ukończenie testu przygotowawczego\r\n",
        "\r\n",
        "Link do dataset'u: https://www.kaggle.com/spscientist/students-performance-in-exams  \r\n",
        "Przewidywana kolumna: **math result**  \r\n",
        "Kolumny brane pod uwagę: **wszystkie**\r\n",
        "\r\n",
        "### Kroki do wykonania eksperymentu\r\n",
        "\r\n",
        "1. Stworzenie resource group'y\r\n",
        "2. Stworzenie resource'a Azure Machine Learning\r\n",
        "3. Zalogowanie się do portalu [ml.azure.com] i stworzenie środowiska w naszej resource group'ie do przeprowadzaenia eksperymentu\r\n",
        "4. Pobranie datasetu z kaggle'a i załadowanie go do zestawu danych na [ml.azure.com] w formie tabelarycznej z nagłówkiem określającym nazwy kolumn i nazwą **students-performance**\r\n",
        "5. Stworzenie dwóch środowisk obliczeniowych (najlepiej najtańszych). Jedno będzie służyło nam do uruchomienia jupytera i eksperymentu i może mieć dowolną nazwę. Na drugim będzie przeprowadzony eksperyment i powinno mieć nazwę **regression-cluster**.\r\n",
        "6. Wrzucenie tego notebook'a do plików w środowisku i uruchomienie go"
      ],
      "metadata": {
        "nteract": {
          "transient": {
            "deleting": false
          }
        }
      }
    },
    {
      "cell_type": "markdown",
      "source": [
        "### Sprawdzamy czy workspace jest gotowy do użycia"
      ],
      "metadata": {
        "nteract": {
          "transient": {
            "deleting": false
          }
        }
      }
    },
    {
      "cell_type": "code",
      "source": [
        "import azureml.core\r\n",
        "from azureml.core import Workspace, Dataset\r\n",
        "\r\n",
        "print(\"SDK version:\", azureml.core.VERSION)\r\n",
        "ws = Workspace.from_config()"
      ],
      "outputs": [
        {
          "output_type": "stream",
          "name": "stdout",
          "text": [
            "SDK version: 1.19.0\n"
          ]
        }
      ],
      "execution_count": 7,
      "metadata": {
        "gather": {
          "logged": 1608991669141
        }
      }
    },
    {
      "cell_type": "markdown",
      "source": [
        "### Wczytujemy dane do dataframe'a w pandasie"
      ],
      "metadata": {
        "nteract": {
          "transient": {
            "deleting": false
          }
        }
      }
    },
    {
      "cell_type": "code",
      "source": [
        "students_dataset = ws.datasets['students-performance']\r\n",
        "students_df = students_dataset.to_pandas_dataframe()\r\n",
        "students_df.head(5)"
      ],
      "outputs": [
        {
          "output_type": "execute_result",
          "execution_count": 8,
          "data": {
            "text/plain": "   gender race/ethnicity parental level of education         lunch  \\\n0  female        group B           bachelor's degree      standard   \n1  female        group C                some college      standard   \n2  female        group B             master's degree      standard   \n3    male        group A          associate's degree  free/reduced   \n4    male        group C                some college      standard   \n\n  test preparation course  math score  reading score  writing score  \n0                    none          72             72             74  \n1               completed          69             90             88  \n2                    none          90             95             93  \n3                    none          47             57             44  \n4                    none          76             78             75  ",
            "text/html": "<div>\n<style scoped>\n    .dataframe tbody tr th:only-of-type {\n        vertical-align: middle;\n    }\n\n    .dataframe tbody tr th {\n        vertical-align: top;\n    }\n\n    .dataframe thead th {\n        text-align: right;\n    }\n</style>\n<table border=\"1\" class=\"dataframe\">\n  <thead>\n    <tr style=\"text-align: right;\">\n      <th></th>\n      <th>gender</th>\n      <th>race/ethnicity</th>\n      <th>parental level of education</th>\n      <th>lunch</th>\n      <th>test preparation course</th>\n      <th>math score</th>\n      <th>reading score</th>\n      <th>writing score</th>\n    </tr>\n  </thead>\n  <tbody>\n    <tr>\n      <th>0</th>\n      <td>female</td>\n      <td>group B</td>\n      <td>bachelor's degree</td>\n      <td>standard</td>\n      <td>none</td>\n      <td>72</td>\n      <td>72</td>\n      <td>74</td>\n    </tr>\n    <tr>\n      <th>1</th>\n      <td>female</td>\n      <td>group C</td>\n      <td>some college</td>\n      <td>standard</td>\n      <td>completed</td>\n      <td>69</td>\n      <td>90</td>\n      <td>88</td>\n    </tr>\n    <tr>\n      <th>2</th>\n      <td>female</td>\n      <td>group B</td>\n      <td>master's degree</td>\n      <td>standard</td>\n      <td>none</td>\n      <td>90</td>\n      <td>95</td>\n      <td>93</td>\n    </tr>\n    <tr>\n      <th>3</th>\n      <td>male</td>\n      <td>group A</td>\n      <td>associate's degree</td>\n      <td>free/reduced</td>\n      <td>none</td>\n      <td>47</td>\n      <td>57</td>\n      <td>44</td>\n    </tr>\n    <tr>\n      <th>4</th>\n      <td>male</td>\n      <td>group C</td>\n      <td>some college</td>\n      <td>standard</td>\n      <td>none</td>\n      <td>76</td>\n      <td>78</td>\n      <td>75</td>\n    </tr>\n  </tbody>\n</table>\n</div>"
          },
          "metadata": {}
        }
      ],
      "execution_count": 8,
      "metadata": {
        "collapsed": true,
        "jupyter": {
          "source_hidden": false,
          "outputs_hidden": false
        },
        "nteract": {
          "transient": {
            "deleting": false
          }
        },
        "gather": {
          "logged": 1608991669649
        }
      }
    },
    {
      "cell_type": "markdown",
      "source": [
        "### Dzielimy zbiór na treningowy i testowy"
      ],
      "metadata": {
        "nteract": {
          "transient": {
            "deleting": false
          }
        }
      }
    },
    {
      "cell_type": "code",
      "source": [
        "train_dataset, test_dataset = students_dataset.random_split(0.9, seed=1)\r\n",
        "\r\n",
        "train_dataset_df = train_dataset.to_pandas_dataframe()\r\n",
        "test_dataset_df = test_dataset.to_pandas_dataframe()\r\n",
        "\r\n",
        "train_dataset_df.head(5)"
      ],
      "outputs": [
        {
          "output_type": "execute_result",
          "execution_count": 9,
          "data": {
            "text/plain": "   gender race/ethnicity parental level of education         lunch  \\\n0  female        group B           bachelor's degree      standard   \n1  female        group C                some college      standard   \n2  female        group B             master's degree      standard   \n3    male        group A          associate's degree  free/reduced   \n4    male        group C                some college      standard   \n\n  test preparation course  math score  reading score  writing score  \n0                    none          72             72             74  \n1               completed          69             90             88  \n2                    none          90             95             93  \n3                    none          47             57             44  \n4                    none          76             78             75  ",
            "text/html": "<div>\n<style scoped>\n    .dataframe tbody tr th:only-of-type {\n        vertical-align: middle;\n    }\n\n    .dataframe tbody tr th {\n        vertical-align: top;\n    }\n\n    .dataframe thead th {\n        text-align: right;\n    }\n</style>\n<table border=\"1\" class=\"dataframe\">\n  <thead>\n    <tr style=\"text-align: right;\">\n      <th></th>\n      <th>gender</th>\n      <th>race/ethnicity</th>\n      <th>parental level of education</th>\n      <th>lunch</th>\n      <th>test preparation course</th>\n      <th>math score</th>\n      <th>reading score</th>\n      <th>writing score</th>\n    </tr>\n  </thead>\n  <tbody>\n    <tr>\n      <th>0</th>\n      <td>female</td>\n      <td>group B</td>\n      <td>bachelor's degree</td>\n      <td>standard</td>\n      <td>none</td>\n      <td>72</td>\n      <td>72</td>\n      <td>74</td>\n    </tr>\n    <tr>\n      <th>1</th>\n      <td>female</td>\n      <td>group C</td>\n      <td>some college</td>\n      <td>standard</td>\n      <td>completed</td>\n      <td>69</td>\n      <td>90</td>\n      <td>88</td>\n    </tr>\n    <tr>\n      <th>2</th>\n      <td>female</td>\n      <td>group B</td>\n      <td>master's degree</td>\n      <td>standard</td>\n      <td>none</td>\n      <td>90</td>\n      <td>95</td>\n      <td>93</td>\n    </tr>\n    <tr>\n      <th>3</th>\n      <td>male</td>\n      <td>group A</td>\n      <td>associate's degree</td>\n      <td>free/reduced</td>\n      <td>none</td>\n      <td>47</td>\n      <td>57</td>\n      <td>44</td>\n    </tr>\n    <tr>\n      <th>4</th>\n      <td>male</td>\n      <td>group C</td>\n      <td>some college</td>\n      <td>standard</td>\n      <td>none</td>\n      <td>76</td>\n      <td>78</td>\n      <td>75</td>\n    </tr>\n  </tbody>\n</table>\n</div>"
          },
          "metadata": {}
        }
      ],
      "execution_count": 9,
      "metadata": {
        "collapsed": true,
        "jupyter": {
          "source_hidden": false,
          "outputs_hidden": false
        },
        "nteract": {
          "transient": {
            "deleting": false
          }
        },
        "gather": {
          "logged": 1608991671912
        }
      }
    },
    {
      "cell_type": "markdown",
      "source": [
        "### Sprawdzamy dostępne środowiska obliczeniowe"
      ],
      "metadata": {
        "nteract": {
          "transient": {
            "deleting": false
          }
        }
      }
    },
    {
      "cell_type": "code",
      "source": [
        "from azureml.core.compute import AmlCompute\r\n",
        "from azureml.core.compute import ComputeTarget\r\n",
        "\r\n",
        "ComputeTarget.list(ws)"
      ],
      "outputs": [
        {
          "output_type": "execute_result",
          "execution_count": 10,
          "data": {
            "text/plain": "[{\n   \"id\": \"/subscriptions/77f26125-4a7b-48ba-a510-6e1c36506c3b/resourceGroups/auto-ML/providers/Microsoft.MachineLearningServices/workspaces/ml-resource/computes/covid-cluster\",\n   \"name\": \"covid-cluster\",\n   \"location\": \"westeurope\",\n   \"tags\": null,\n   \"properties\": {\n     \"description\": null,\n     \"computeType\": \"ComputeInstance\",\n     \"computeLocation\": \"westeurope\",\n     \"resourceId\": null,\n     \"provisioningErrors\": null,\n     \"provisioningState\": \"Succeeded\",\n     \"properties\": {\n       \"vmSize\": \"STANDARD_DS2_V2\",\n       \"applications\": [\n         {\n           \"displayName\": \"Jupyter\",\n           \"endpointUri\": \"https://covid-cluster.westeurope.instances.azureml.ms\"\n         },\n         {\n           \"displayName\": \"Jupyter Lab\",\n           \"endpointUri\": \"https://covid-cluster.westeurope.instances.azureml.ms/lab\"\n         },\n         {\n           \"displayName\": \"RStudio\",\n           \"endpointUri\": \"https://covid-cluster-8787.westeurope.instances.azureml.ms\"\n         }\n       ],\n       \"connectivityEndpoints\": {\n         \"publicIpAddress\": \"20.73.233.123\",\n         \"privateIpAddress\": \"10.0.0.4\"\n       },\n       \"sshSettings\": {\n         \"sshPublicAccess\": \"Disabled\",\n         \"adminUserName\": \"azureuser\",\n         \"adminPublicKey\": null,\n         \"sshPort\": 4000\n       },\n       \"personalComputeInstanceSettings\": null,\n       \"subnet\": {\n         \"id\": null\n       },\n       \"errors\": []\n     },\n     \"status\": {\n       \"errors\": [],\n       \"creationTime\": \"2020-12-26T13:19:30.960481+00:00\",\n       \"createdBy\": {\n         \"userObjectId\": \"1d574843-1d03-4c9c-bb14-60d950cee417\",\n         \"userTenantId\": \"dea32f1c-cf5d-4d7d-a4d0-3cf7088348c7\",\n         \"userName\": null\n       },\n       \"modifiedTime\": \"2020-12-26T13:23:02.721478+00:00\",\n       \"state\": \"Running\",\n       \"vmSize\": \"STANDARD_DS2_V2\"\n     }\n   }\n },\n {\n   \"id\": \"/subscriptions/77f26125-4a7b-48ba-a510-6e1c36506c3b/resourceGroups/auto-ML/providers/Microsoft.MachineLearningServices/workspaces/ml-resource/computes/regression-cluster\",\n   \"name\": \"regression-cluster\",\n   \"location\": \"westeurope\",\n   \"tags\": null,\n   \"properties\": {\n     \"description\": null,\n     \"computeType\": \"ComputeInstance\",\n     \"computeLocation\": \"westeurope\",\n     \"resourceId\": null,\n     \"provisioningErrors\": null,\n     \"provisioningState\": \"Succeeded\",\n     \"properties\": {\n       \"vmSize\": \"STANDARD_DS2_V2\",\n       \"applications\": [\n         {\n           \"displayName\": \"Jupyter\",\n           \"endpointUri\": \"https://regression-cluster.westeurope.instances.azureml.ms\"\n         },\n         {\n           \"displayName\": \"Jupyter Lab\",\n           \"endpointUri\": \"https://regression-cluster.westeurope.instances.azureml.ms/lab\"\n         },\n         {\n           \"displayName\": \"RStudio\",\n           \"endpointUri\": \"https://regression-cluster-8787.westeurope.instances.azureml.ms\"\n         }\n       ],\n       \"connectivityEndpoints\": {\n         \"publicIpAddress\": \"20.73.150.153\",\n         \"privateIpAddress\": \"10.0.0.5\"\n       },\n       \"sshSettings\": {\n         \"sshPublicAccess\": \"Disabled\",\n         \"adminUserName\": \"azureuser\",\n         \"adminPublicKey\": null,\n         \"sshPort\": 4001\n       },\n       \"personalComputeInstanceSettings\": null,\n       \"subnet\": {\n         \"id\": null\n       },\n       \"errors\": []\n     },\n     \"status\": {\n       \"errors\": [],\n       \"creationTime\": \"2020-12-26T14:03:56.522441+00:00\",\n       \"createdBy\": {\n         \"userObjectId\": \"1d574843-1d03-4c9c-bb14-60d950cee417\",\n         \"userTenantId\": \"dea32f1c-cf5d-4d7d-a4d0-3cf7088348c7\",\n         \"userName\": null\n       },\n       \"modifiedTime\": \"2020-12-26T14:06:12.708420+00:00\",\n       \"state\": \"Running\",\n       \"vmSize\": \"STANDARD_DS2_V2\"\n     }\n   }\n }]"
          },
          "metadata": {}
        }
      ],
      "execution_count": 10,
      "metadata": {
        "collapsed": true,
        "jupyter": {
          "source_hidden": false,
          "outputs_hidden": false
        },
        "nteract": {
          "transient": {
            "deleting": false
          }
        },
        "gather": {
          "logged": 1608991672190
        }
      }
    },
    {
      "cell_type": "markdown",
      "source": [
        "### Podłączamy się do klastra na którym będziemy wykonywali obliczenia"
      ],
      "metadata": {
        "nteract": {
          "transient": {
            "deleting": false
          }
        }
      }
    },
    {
      "cell_type": "code",
      "source": [
        "amlcompute_cluster_name = \"regression-cluster\"\r\n",
        "cts = ws.compute_targets\r\n",
        "aml_remote_compute = cts[amlcompute_cluster_name]\r\n",
        "aml_remote_compute.wait_for_completion(show_output = True)\r\n",
        "aml_remote_compute.get_status().serialize()"
      ],
      "outputs": [
        {
          "output_type": "stream",
          "name": "stdout",
          "text": [
            "\n",
            "Running\n"
          ]
        },
        {
          "output_type": "execute_result",
          "execution_count": 13,
          "data": {
            "text/plain": "{'errors': [],\n 'creationTime': '2020-12-26T14:03:56.522441+00:00',\n 'createdBy': {'userObjectId': '1d574843-1d03-4c9c-bb14-60d950cee417',\n  'userTenantId': 'dea32f1c-cf5d-4d7d-a4d0-3cf7088348c7',\n  'userName': None},\n 'modifiedTime': '2020-12-26T14:06:12.708420+00:00',\n 'state': 'Running',\n 'vmSize': 'STANDARD_DS2_V2'}"
          },
          "metadata": {}
        }
      ],
      "execution_count": 13,
      "metadata": {
        "collapsed": true,
        "jupyter": {
          "source_hidden": false,
          "outputs_hidden": false
        },
        "nteract": {
          "transient": {
            "deleting": false
          }
        },
        "gather": {
          "logged": 1608992072643
        }
      }
    },
    {
      "cell_type": "markdown",
      "source": [
        "### Sprawdzamy metryki dla problemu regresji"
      ],
      "metadata": {
        "nteract": {
          "transient": {
            "deleting": false
          }
        }
      }
    },
    {
      "cell_type": "code",
      "source": [
        "from azureml.train import automl\r\n",
        "automl.utilities.get_primary_metrics('regression')"
      ],
      "outputs": [
        {
          "output_type": "execute_result",
          "execution_count": 14,
          "data": {
            "text/plain": "['normalized_mean_absolute_error',\n 'r2_score',\n 'normalized_root_mean_squared_error',\n 'spearman_correlation']"
          },
          "metadata": {}
        }
      ],
      "execution_count": 14,
      "metadata": {
        "collapsed": true,
        "jupyter": {
          "source_hidden": false,
          "outputs_hidden": false
        },
        "nteract": {
          "transient": {
            "deleting": false
          }
        },
        "gather": {
          "logged": 1608992152231
        }
      }
    },
    {
      "cell_type": "markdown",
      "source": [
        "### Definiujemy eksperyment\r\n",
        "Błąd eksperymentu będzie mierzony metodą znormalizowanego średniego bewzględnego błedu."
      ],
      "metadata": {
        "nteract": {
          "transient": {
            "deleting": false
          }
        }
      }
    },
    {
      "cell_type": "code",
      "source": [
        "import logging\r\n",
        "import os\r\n",
        "from azureml.train.automl import AutoMLConfig\r\n",
        "\r\n",
        "project_folder = './automl'\r\n",
        "os.makedirs(project_folder, exist_ok=True)\r\n",
        "\r\n",
        "automl_config = AutoMLConfig(compute_target=aml_remote_compute,\r\n",
        "                             task='regression',\r\n",
        "                             primary_metric='normalized_mean_absolute_error',\r\n",
        "                             experiment_timeout_minutes=15,                            \r\n",
        "                             training_data=train_dataset,\r\n",
        "                             label_column_name=\"math score\",\r\n",
        "                             n_cross_validations=5,                                                   \r\n",
        "                             enable_early_stopping=True,\r\n",
        "                             featurization='auto',\r\n",
        "                             debug_log='automated_ml_errors.log',\r\n",
        "                             verbosity=logging.INFO,\r\n",
        "                             path=project_folder)"
      ],
      "outputs": [],
      "execution_count": 15,
      "metadata": {
        "collapsed": true,
        "jupyter": {
          "source_hidden": false,
          "outputs_hidden": false
        },
        "nteract": {
          "transient": {
            "deleting": false
          }
        },
        "gather": {
          "logged": 1608992337476
        }
      }
    },
    {
      "cell_type": "markdown",
      "source": [
        "### Uruchamiamy eksperyment\r\n",
        "\r\n",
        "Czas trwania eksperymentu to około 12 min. Po przeprowadzeniu eksperymentu wyświetlą się nam wyniki dla różnych modeli."
      ],
      "metadata": {
        "nteract": {
          "transient": {
            "deleting": false
          }
        }
      }
    },
    {
      "cell_type": "code",
      "source": [
        "from azureml.core import Experiment\r\n",
        "from datetime import datetime\r\n",
        "\r\n",
        "now = datetime.now()\r\n",
        "time_string = now.strftime(\"%m-%d-%Y-%H\")\r\n",
        "experiment_name = \"classif-automl-remote-{0}\".format(time_string)\r\n",
        "print(experiment_name)\r\n",
        "\r\n",
        "experiment = Experiment(workspace=ws, name=experiment_name)\r\n",
        "\r\n",
        "import time\r\n",
        "start_time = time.time()\r\n",
        "            \r\n",
        "run = experiment.submit(automl_config, show_output=True)\r\n",
        "\r\n",
        "print('Manual run timing: --- %s seconds needed for running the whole Remote AutoML Experiment ---' % (time.time() - start_time))"
      ],
      "outputs": [
        {
          "output_type": "stream",
          "name": "stdout",
          "text": [
            "classif-automl-remote-12-26-2020-14\n",
            "Running on remote.\n",
            "No run_configuration provided, running on regression-cluster with default configuration\n",
            "Running on remote compute: regression-cluster\n",
            "Parent Run ID: AutoML_4a7b380a-e712-460a-9ed8-10956d425534\n",
            "\n",
            "Current status: FeaturesGeneration. Generating features for the dataset.\n",
            "Current status: DatasetFeaturization. Beginning to fit featurizers and featurize the dataset.\n",
            "Current status: DatasetCrossValidationSplit. Generating individually featurized CV splits.\n",
            "Current status: ModelSelection. Beginning model selection.\n",
            "\n",
            "****************************************************************************************************\n",
            "DATA GUARDRAILS: \n",
            "\n",
            "TYPE:         Missing feature values imputation\n",
            "STATUS:       PASSED\n",
            "DESCRIPTION:  No feature missing values were detected in the training data.\n",
            "              Learn more about missing value imputation: https://aka.ms/AutomatedMLFeaturization\n",
            "\n",
            "****************************************************************************************************\n",
            "\n",
            "TYPE:         High cardinality feature detection\n",
            "STATUS:       PASSED\n",
            "DESCRIPTION:  Your inputs were analyzed, and no high cardinality features were detected.\n",
            "              Learn more about high cardinality feature handling: https://aka.ms/AutomatedMLFeaturization\n",
            "\n",
            "****************************************************************************************************\n",
            "\n",
            "****************************************************************************************************\n",
            "ITERATION: The iteration being evaluated.\n",
            "PIPELINE: A summary description of the pipeline being evaluated.\n",
            "DURATION: Time taken for the current iteration.\n",
            "METRIC: The result of computing score on the fitted pipeline.\n",
            "BEST: The best observed score thus far.\n",
            "****************************************************************************************************\n",
            "\n",
            " ITERATION   PIPELINE                                       DURATION      METRIC      BEST\n",
            "         0   MaxAbsScaler LightGBM                          0:01:02       0.0482    0.0482\n",
            "         1   MaxAbsScaler XGBoostRegressor                  0:00:42       0.0449    0.0449\n",
            "         2   StandardScalerWrapper DecisionTree             0:00:47       0.0548    0.0449\n",
            "         3   MaxAbsScaler DecisionTree                      0:00:48       0.0518    0.0449\n",
            "         4   MaxAbsScaler DecisionTree                      0:00:48       0.0518    0.0449\n",
            "         5   MaxAbsScaler DecisionTree                      0:00:43       0.0531    0.0449\n",
            "         6   MaxAbsScaler DecisionTree                      0:00:36       0.0523    0.0449\n",
            "         7   MaxAbsScaler DecisionTree                      0:00:36       0.0526    0.0449\n",
            "         8   MaxAbsScaler DecisionTree                      0:00:47       0.0533    0.0449\n",
            "         9   MaxAbsScaler DecisionTree                      0:00:44       0.0591    0.0449\n",
            "        10   MaxAbsScaler SGD                               0:00:40       0.0472    0.0449\n",
            "        11   MaxAbsScaler DecisionTree                      0:00:47       0.0522    0.0449\n",
            "        12   MaxAbsScaler DecisionTree                      0:00:38       0.0537    0.0449\n",
            "        13   MaxAbsScaler ElasticNet                        0:00:47       0.0424    0.0424\n",
            "        14   MaxAbsScaler DecisionTree                      0:00:39       0.0548    0.0424\n",
            "        15                                                  0:00:17          nan    0.0424\n",
            "        16    VotingEnsemble                                0:01:09       0.0423    0.0423\n",
            "        17    StackEnsemble                                 0:01:00       0.0424    0.0423\n",
            "Manual run timing: --- 1393.7374703884125 seconds needed for running the whole Remote AutoML Experiment ---\n"
          ]
        }
      ],
      "execution_count": 16,
      "metadata": {
        "collapsed": true,
        "jupyter": {
          "source_hidden": false,
          "outputs_hidden": false
        },
        "nteract": {
          "transient": {
            "deleting": false
          }
        },
        "gather": {
          "logged": 1608993801749
        }
      }
    },
    {
      "cell_type": "markdown",
      "source": [
        "### Wymagany czas na aksperyment"
      ],
      "metadata": {
        "nteract": {
          "transient": {
            "deleting": false
          }
        }
      }
    },
    {
      "cell_type": "code",
      "source": [
        "import time\r\n",
        "import datetime as dt\r\n",
        "\r\n",
        "run_details = run.get_details()\r\n",
        "\r\n",
        "# Like: 2020-01-12T23:11:56.292703Z\r\n",
        "end_time_utc_str = run_details['endTimeUtc'].split(\".\")[0]\r\n",
        "start_time_utc_str = run_details['startTimeUtc'].split(\".\")[0]\r\n",
        "timestamp_end = time.mktime(datetime.strptime(end_time_utc_str, \"%Y-%m-%dT%H:%M:%S\").timetuple())\r\n",
        "timestamp_start = time.mktime(datetime.strptime(start_time_utc_str, \"%Y-%m-%dT%H:%M:%S\").timetuple())\r\n",
        "\r\n",
        "parent_run_time = timestamp_end - timestamp_start\r\n",
        "print('Run Timing: --- %s seconds needed for running the whole Remote AutoML Experiment ---' % (parent_run_time))"
      ],
      "outputs": [
        {
          "output_type": "stream",
          "name": "stdout",
          "text": [
            "Run Timing: --- 1363.0 seconds needed for running the whole Remote AutoML Experiment ---\n"
          ]
        }
      ],
      "execution_count": 18,
      "metadata": {
        "collapsed": true,
        "jupyter": {
          "source_hidden": false,
          "outputs_hidden": false
        },
        "nteract": {
          "transient": {
            "deleting": false
          }
        },
        "gather": {
          "logged": 1608994396241
        }
      }
    },
    {
      "cell_type": "markdown",
      "source": [
        "### Najlepszy model\r\n",
        "W moim przypadku najlepszym modelem okazał się model **VotingEnsemble**"
      ],
      "metadata": {
        "nteract": {
          "transient": {
            "deleting": false
          }
        }
      }
    },
    {
      "cell_type": "code",
      "source": [
        "best_run, fitted_model = run.get_output()\r\n",
        "print(best_run)\r\n",
        "print(fitted_model)"
      ],
      "outputs": [
        {
          "output_type": "stream",
          "name": "stdout",
          "text": [
            "Run(Experiment: classif-automl-remote-12-26-2020-14,\n",
            "Id: AutoML_4a7b380a-e712-460a-9ed8-10956d425534_16,\n",
            "Type: azureml.scriptrun,\n",
            "Status: Completed)\n",
            "RegressionPipeline(pipeline=Pipeline(memory=None,\n",
            "                                     steps=[('datatransformer',\n",
            "                                             DataTransformer(enable_dnn=None,\n",
            "                                                             enable_feature_sweeping=None,\n",
            "                                                             feature_sweeping_config=None,\n",
            "                                                             feature_sweeping_timeout=None,\n",
            "                                                             featurization_config=None,\n",
            "                                                             force_text_dnn=None,\n",
            "                                                             is_cross_validation=None,\n",
            "                                                             is_onnx_compatible=None,\n",
            "                                                             logger=None,\n",
            "                                                             observer=None,\n",
            "                                                             task=None,\n",
            "                                                             working_dir=None)),\n",
            "                                            ('pre...\n",
            "                                                                                                                              max_leaf_nodes=None,\n",
            "                                                                                                                              min_impurity_decrease=0.0,\n",
            "                                                                                                                              min_impurity_split=None,\n",
            "                                                                                                                              min_samples_leaf=0.013373400896808276,\n",
            "                                                                                                                              min_samples_split=0.018261584682702607,\n",
            "                                                                                                                              min_weight_fraction_leaf=0.0,\n",
            "                                                                                                                              presort='deprecated',\n",
            "                                                                                                                              random_state=None,\n",
            "                                                                                                                              splitter='best'))],\n",
            "                                                                                                verbose=False))],\n",
            "                                                                          weights=[0.8666666666666667,\n",
            "                                                                                   0.06666666666666667,\n",
            "                                                                                   0.06666666666666667]))],\n",
            "                                     verbose=False),\n",
            "                   stddev=None)\n"
          ]
        }
      ],
      "execution_count": 19,
      "metadata": {
        "collapsed": true,
        "jupyter": {
          "source_hidden": false,
          "outputs_hidden": false
        },
        "nteract": {
          "transient": {
            "deleting": false
          }
        },
        "gather": {
          "logged": 1608994448488
        }
      }
    },
    {
      "cell_type": "markdown",
      "source": [
        "### Wykonanie predykcji na zbiorze testowym najlepszym modelem"
      ],
      "metadata": {
        "nteract": {
          "transient": {
            "deleting": false
          }
        }
      }
    },
    {
      "cell_type": "code",
      "source": [
        "import pandas as pd\r\n",
        "\r\n",
        "if 'math score' in test_dataset_df.columns:\r\n",
        "    y_test_df = test_dataset_df.pop('math score')\r\n",
        "\r\n",
        "x_test_df = test_dataset_df\r\n",
        "y_predictions = fitted_model.predict(x_test_df)"
      ],
      "outputs": [],
      "execution_count": 21,
      "metadata": {
        "collapsed": true,
        "jupyter": {
          "source_hidden": false,
          "outputs_hidden": false
        },
        "nteract": {
          "transient": {
            "deleting": false
          }
        },
        "gather": {
          "logged": 1608994708699
        }
      }
    },
    {
      "cell_type": "markdown",
      "source": [
        "### Sprawdzamy jaki otrzymaliśmy średni błąd absolutny na zbiorze testowym"
      ],
      "metadata": {
        "nteract": {
          "transient": {
            "deleting": false
          }
        }
      }
    },
    {
      "cell_type": "code",
      "source": [
        "from sklearn.metrics import mean_absolute_error\r\n",
        "\r\n",
        "print('Mean absolute error:')\r\n",
        "mean_absolute_error(y_test_df, y_predictions)"
      ],
      "outputs": [
        {
          "output_type": "stream",
          "name": "stdout",
          "text": [
            "Mean absolute error:\n"
          ]
        },
        {
          "output_type": "execute_result",
          "execution_count": 27,
          "data": {
            "text/plain": "4.98317215598992"
          },
          "metadata": {}
        }
      ],
      "execution_count": 27,
      "metadata": {
        "collapsed": true,
        "jupyter": {
          "source_hidden": false,
          "outputs_hidden": false
        },
        "nteract": {
          "transient": {
            "deleting": false
          }
        },
        "gather": {
          "logged": 1608994859905
        }
      }
    }
  ],
  "metadata": {
    "kernelspec": {
      "name": "python3-azureml",
      "language": "python",
      "display_name": "Python 3.6 - AzureML"
    },
    "language_info": {
      "name": "python",
      "version": "3.6.9",
      "mimetype": "text/x-python",
      "codemirror_mode": {
        "name": "ipython",
        "version": 3
      },
      "pygments_lexer": "ipython3",
      "nbconvert_exporter": "python",
      "file_extension": ".py"
    },
    "kernel_info": {
      "name": "python3-azureml"
    },
    "nteract": {
      "version": "nteract-front-end@1.0.0"
    }
  },
  "nbformat": 4,
  "nbformat_minor": 2
}